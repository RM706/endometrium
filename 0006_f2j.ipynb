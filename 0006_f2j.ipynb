{
 "cells": [
  {
   "cell_type": "code",
   "execution_count": 45,
   "metadata": {
    "vscode": {
     "languageId": "r"
    }
   },
   "outputs": [
    {
     "name": "stderr",
     "output_type": "stream",
     "text": [
      "Warning message:\n",
      "“package ‘qpdf’ was built under R version 4.3.2”\n"
     ]
    }
   ],
   "source": [
    "library(\"ComplexHeatmap\")\n",
    "library(\"ggplot2\")\n",
    "library(\"circlize\")\n",
    "library(\"qpdf\")"
   ]
  },
  {
   "cell_type": "code",
   "execution_count": 2,
   "metadata": {
    "vscode": {
     "languageId": "r"
    }
   },
   "outputs": [],
   "source": [
    "source(\"/data1/weiyihu/endometrium/data/share/paraments.R\")\n",
    "source(\"/data1/weiyihu/endometrium/data/share/function.R\")"
   ]
  },
  {
   "cell_type": "code",
   "execution_count": 3,
   "metadata": {
    "vscode": {
     "languageId": "r"
    }
   },
   "outputs": [],
   "source": [
    "setwd(\"/data1/weiyihu/endometrium/data\")"
   ]
  },
  {
   "cell_type": "code",
   "execution_count": 4,
   "metadata": {
    "vscode": {
     "languageId": "r"
    }
   },
   "outputs": [],
   "source": [
    "dataHeatmap = readRDS(\"0006_dataHeatmap.rds\")"
   ]
  },
  {
   "cell_type": "code",
   "execution_count": 37,
   "metadata": {
    "vscode": {
     "languageId": "r"
    }
   },
   "outputs": [],
   "source": [
    "makeHeatmap = function(df, rowSet=NULL, colSet=NULL, rowColor=NULL, colColor=NULL, rowLevels=NULL, colLevels=NULL){\n",
    "  # input:\n",
    "  #   df\n",
    "  #   rowSet|\\t     list|\\t             key为row的分组名, value为对应分组中的rowName\n",
    "  #   colSet|\\t     list|\\t             同上\n",
    "  #   rowColor|\\t   list|\\t             key为row的组名, value为该组的颜色\n",
    "  #   colColor|\\t   list|\\t             key为col的组名, value为该组的颜色\n",
    "  #   rowLevels|\\t  characterVector|\\t  =names(rowSet), 行组的顺序\n",
    "  #   colLevels|\\t  characterVector|\\t  =unique(colnames(df)), 列组的顺序\n",
    "  #library(ComplexHeatmap)\n",
    "  #library(circlize)\n",
    "  #library(grDevices)\n",
    "  df = df\n",
    "  rowSet = rowSet\n",
    "  rowColor = rowColor\n",
    "  colColor = colColor\n",
    "  rowLevels = rowLevels\n",
    "  colLevels = colLevels\n",
    "\n",
    "  # 初始化\n",
    "  rowSet = ifelse(is.null(rowSet), list(structure(as.list(rownames(df)), names=rownames(df))), list(rowSet))[[1]]\n",
    "  colSet = ifelse(is.null(colSet), list(structure(as.list(colnames(df)), names=colnames(df))), list(colSet))[[1]]\n",
    "  rowColor = ifelse(is.null(rowColor), list(stats::setNames(grDevices::rainbow(length(rowSet)), names(rowSet))), list(unlist(rowColor)[names(rowColor) %in% names(rowSet)]))[[1]]\n",
    "  colColor = ifelse(is.null(colColor), list(stats::setNames(grDevices::rainbow(length(colSet)), names(colSet))), list(unlist(colColor)[names(colColor) %in% names(colSet)]))[[1]]\n",
    "  rowLevels = ifelse(is.null(rowLevels), list(names(rowSet)), list(rowLevels[rowLevels %in% names(rowSet)]))[[1]]\n",
    "  colLevels = ifelse(is.null(colLevels), list(unique(colnames(df))), list(colLevels[colLevels %in% names(colSet)]))[[1]]\n",
    "\n",
    "  df = as.data.frame(t(df))\n",
    "\n",
    "  #顶部注释\n",
    "  dfAnno = df\n",
    "  dfAnno$column = rownames(dfAnno)\n",
    "  dfAnno <- data.frame(dfAnno$column)\n",
    "  dfAnno$group = NA\n",
    "  for(i in seq(1, dim(dfAnno)[1])){\n",
    "    colName = dfAnno[i, 1]\n",
    "    for(group in names(colSet)){\n",
    "      if(colName %in% colSet[[group]]){dfAnno[i, 2] = group}\n",
    "    }\n",
    "  }\n",
    "  dfAnno = dfAnno[, 2, drop=FALSE]\n",
    "  colnames(dfAnno) <- \"group\"\n",
    "  dfAnno[, 1] = factor(dfAnno[, 1], levels=colLevels)\n",
    "  splitCol = dfAnno[, 1]\n",
    "  top_anno = HeatmapAnnotation(df=dfAnno,\n",
    "                               border=F,\n",
    "                               show_annotation_name=F,\n",
    "                               gp=gpar(col=NA),\n",
    "                               col=list(\"group\"=colColor),\n",
    "                               show_legend=T,\n",
    "                               which='column')\n",
    "\n",
    "  # 左侧注释\n",
    "  dfAnno = df\n",
    "  dfAnno = as.data.frame(t(dfAnno))\n",
    "  dfAnno$rowName = rownames(dfAnno)\n",
    "  dfAnno <- data.frame(dfAnno$rowName)\n",
    "  dfAnno$group = NA\n",
    "  for(i in seq(1, dim(dfAnno)[1])){\n",
    "    rowName = dfAnno[i, 1]\n",
    "    for(group in names(rowSet)){\n",
    "      if(rowName %in% rowSet[[group]]){dfAnno[i, 2] = group}\n",
    "    }\n",
    "  }\n",
    "  dfAnno = dfAnno[, 2, drop=FALSE]\n",
    "  colnames(dfAnno) <- \"gene set\"\n",
    "  dfAnno[, 1] = factor(dfAnno[, 1], levels=rowLevels)\n",
    "  splitRow = dfAnno[, 1]\n",
    "  left_anno = HeatmapAnnotation(df=dfAnno,\n",
    "                                border=F,\n",
    "                                show_annotation_name=F,\n",
    "                                gp=gpar(col=NA),\n",
    "                                col=list(\"gene set\"=unlist(rowColor)),\n",
    "                                show_legend=T,\n",
    "                                which='row')\n",
    "\n",
    "  # 数据标准化缩放\n",
    "  marker_exp <- t(scale(df[, ], scale=T, center=T))\n",
    "  cat(paste0(\"min(int): \", floor(min(marker_exp)), ' max(int): ', ceiling(max(marker_exp)), '\\n'))\n",
    "  \n",
    "  #颜色设置\n",
    "  col_fun <- colorRamp2(c(floor(min(marker_exp)), 0, ceiling(max(marker_exp))),\n",
    "                        c(\"#313695\", \"white\", \"#A50026\"))\n",
    "  col_fun(seq(floor(min(marker_exp)), ceiling(max(marker_exp))))\n",
    "  \n",
    "  # 主图\n",
    "plot <- Heatmap(marker_exp,\n",
    "                  row_split=splitRow,\n",
    "                  column_split=splitCol,\n",
    "                  cluster_row_slices=FALSE,\n",
    "                  cluster_column_slices=FALSE,\n",
    "                  #cluster_rows=T,  # 是否进行行聚类\n",
    "                  cluster_rows=F,  # 是否进行行聚类\n",
    "                  show_row_dend=FALSE,\n",
    "                  cluster_columns=F,  # 是否进行列聚类\n",
    "                  row_title=gt_render(c(\"stromal cells\"),r=unit(2, \"pt\"),padding=unit(c(2,2,2,2),\"pt\")), # nolint: commented_code_linter.\n",
    "                  row_title_side=\"left\",\n",
    "                  show_row_names=T,  # 是否显示行名\n",
    "                  row_names_side='right',  # 行名的位置\n",
    "                  row_names_gp=gpar(fontsize=10),  # 行名的字体\n",
    "                  show_column_names=F,  # 是否显示列名\n",
    "                  column_title=NULL,  # 所有行的title\n",
    "                  column_names_gp=gpar(fontsize=10),  # 列名的字体\n",
    "                  heatmap_legend_param=list(title=' '),\n",
    "                  col=col_fun,  # 色条的设置\n",
    "                  border=NULL,  # 热图最外侧边界的颜色\n",
    "                  top_annotation=top_anno,\n",
    "                  left_annotation=left_anno\n",
    "                  )\n",
    "\n",
    "  return(plot)\n",
    "}"
   ]
  },
  {
   "cell_type": "code",
   "execution_count": 46,
   "metadata": {
    "vscode": {
     "languageId": "r"
    }
   },
   "outputs": [
    {
     "name": "stdout",
     "output_type": "stream",
     "text": [
      "min(int): -3 max(int): 11\n"
     ]
    }
   ],
   "source": [
    "plot1 = makeHeatmap(df=dataHeatmap$raw,\n",
    "                    rowSet=geneSet[[\"stromal\"]],\n",
    "                    colSet=sampleInGroup[[\"group2\"]],\n",
    "                    rowColor=geneSetColors,\n",
    "                    colColor=groupColors,\n",
    "                    rowLevels=c('Angiogenesis','AdhesionMolecule','LymphocyteRecruitment'),\n",
    "                    colLevels=levels(groupLevels[[\"group2\"]])\n",
    "                    )"
   ]
  },
  {
   "cell_type": "code",
   "execution_count": 47,
   "metadata": {
    "vscode": {
     "languageId": "r"
    }
   },
   "outputs": [
    {
     "name": "stdout",
     "output_type": "stream",
     "text": [
      "min(int): -2 max(int): 2\n"
     ]
    }
   ],
   "source": [
    "plot2 = makeHeatmap(df=dataHeatmap$rawMean,\n",
    "                    rowSet=geneSet[[\"stromal\"]],\n",
    "                    colSet=NULL,\n",
    "                    rowColor=geneSetColors,\n",
    "                    colColor=groupColors,\n",
    "                    rowLevels=c('Angiogenesis','AdhesionMolecule','LymphocyteRecruitment'),\n",
    "                    colLevels=levels(groupLevels[[\"group2\"]])\n",
    "                    )"
   ]
  },
  {
   "cell_type": "code",
   "execution_count": 48,
   "metadata": {
    "vscode": {
     "languageId": "r"
    }
   },
   "outputs": [
    {
     "name": "stdout",
     "output_type": "stream",
     "text": [
      "min(int): -2 max(int): 11\n"
     ]
    }
   ],
   "source": [
    "plot3 = makeHeatmap(df=dataHeatmap$filter,\n",
    "                    rowSet=geneSet[[\"stromal\"]],\n",
    "                    colSet=sampleInGroup[[\"group2\"]],\n",
    "                    rowColor=geneSetColors,\n",
    "                    colColor=groupColors,\n",
    "                    rowLevels=c('Angiogenesis','AdhesionMolecule','LymphocyteRecruitment'),\n",
    "                    colLevels=levels(groupLevels[[\"group2\"]])\n",
    "                    )"
   ]
  },
  {
   "cell_type": "code",
   "execution_count": 49,
   "metadata": {
    "vscode": {
     "languageId": "r"
    }
   },
   "outputs": [
    {
     "name": "stdout",
     "output_type": "stream",
     "text": [
      "min(int): -2 max(int): 2\n"
     ]
    }
   ],
   "source": [
    "plot4 = makeHeatmap(df=dataHeatmap$filterMean,\n",
    "                    rowSet=geneSet[[\"stromal\"]],\n",
    "                    colSet=NULL,\n",
    "                    rowColor=geneSetColors,\n",
    "                    colColor=groupColors,\n",
    "                    rowLevels=c('Angiogenesis','AdhesionMolecule','LymphocyteRecruitment'),\n",
    "                    colLevels=levels(groupLevels[[\"group2\"]])\n",
    "                    )"
   ]
  },
  {
   "cell_type": "code",
   "execution_count": 50,
   "metadata": {
    "vscode": {
     "languageId": "r"
    }
   },
   "outputs": [
    {
     "name": "stderr",
     "output_type": "stream",
     "text": [
      "Warning message in grid.Call.graphics(C_rect, x$x, x$y, x$width, x$height, resolveHJust(x$just, :\n",
      "“supplied color is neither numeric nor character”\n",
      "Warning message in grid.Call.graphics(C_rect, x$x, x$y, x$width, x$height, resolveHJust(x$just, :\n",
      "“supplied color is neither numeric nor character”\n",
      "Warning message in grid.Call.graphics(C_rect, x$x, x$y, x$width, x$height, resolveHJust(x$just, :\n",
      "“supplied color is neither numeric nor character”\n",
      "Warning message in grid.Call.graphics(C_rect, x$x, x$y, x$width, x$height, resolveHJust(x$just, :\n",
      "“supplied color is neither numeric nor character”\n",
      "Warning message in grid.Call.graphics(C_rect, x$x, x$y, x$width, x$height, resolveHJust(x$just, :\n",
      "“supplied color is neither numeric nor character”\n",
      "Warning message in grid.Call.graphics(C_rect, x$x, x$y, x$width, x$height, resolveHJust(x$just, :\n",
      "“supplied color is neither numeric nor character”\n",
      "Warning message in grid.Call.graphics(C_rect, x$x, x$y, x$width, x$height, resolveHJust(x$just, :\n",
      "“supplied color is neither numeric nor character”\n",
      "Warning message in grid.Call.graphics(C_rect, x$x, x$y, x$width, x$height, resolveHJust(x$just, :\n",
      "“supplied color is neither numeric nor character”\n",
      "Warning message in grid.Call.graphics(C_rect, x$x, x$y, x$width, x$height, resolveHJust(x$just, :\n",
      "“supplied color is neither numeric nor character”\n",
      "Warning message in grid.Call.graphics(C_rect, x$x, x$y, x$width, x$height, resolveHJust(x$just, :\n",
      "“supplied color is neither numeric nor character”\n",
      "Warning message in grid.Call.graphics(C_rect, x$x, x$y, x$width, x$height, resolveHJust(x$just, :\n",
      "“supplied color is neither numeric nor character”\n",
      "Warning message in grid.Call.graphics(C_rect, x$x, x$y, x$width, x$height, resolveHJust(x$just, :\n",
      "“supplied color is neither numeric nor character”\n",
      "Warning message in grid.Call.graphics(C_rect, x$x, x$y, x$width, x$height, resolveHJust(x$just, :\n",
      "“supplied color is neither numeric nor character”\n",
      "Warning message in grid.Call.graphics(C_rect, x$x, x$y, x$width, x$height, resolveHJust(x$just, :\n",
      "“supplied color is neither numeric nor character”\n",
      "Warning message in grid.Call.graphics(C_rect, x$x, x$y, x$width, x$height, resolveHJust(x$just, :\n",
      "“supplied color is neither numeric nor character”\n",
      "Warning message in grid.Call.graphics(C_rect, x$x, x$y, x$width, x$height, resolveHJust(x$just, :\n",
      "“supplied color is neither numeric nor character”\n",
      "Warning message in grid.Call.graphics(C_rect, x$x, x$y, x$width, x$height, resolveHJust(x$just, :\n",
      "“supplied color is neither numeric nor character”\n",
      "Warning message in grid.Call.graphics(C_rect, x$x, x$y, x$width, x$height, resolveHJust(x$just, :\n",
      "“supplied color is neither numeric nor character”\n",
      "Warning message in grid.Call.graphics(C_rect, x$x, x$y, x$width, x$height, resolveHJust(x$just, :\n",
      "“supplied color is neither numeric nor character”\n",
      "Warning message in grid.Call.graphics(C_rect, x$x, x$y, x$width, x$height, resolveHJust(x$just, :\n",
      "“supplied color is neither numeric nor character”\n",
      "Warning message in grid.Call.graphics(C_rect, x$x, x$y, x$width, x$height, resolveHJust(x$just, :\n",
      "“supplied color is neither numeric nor character”\n",
      "Warning message in grid.Call.graphics(C_rect, x$x, x$y, x$width, x$height, resolveHJust(x$just, :\n",
      "“supplied color is neither numeric nor character”\n",
      "Warning message in grid.Call.graphics(C_rect, x$x, x$y, x$width, x$height, resolveHJust(x$just, :\n",
      "“supplied color is neither numeric nor character”\n",
      "Warning message in grid.Call.graphics(C_rect, x$x, x$y, x$width, x$height, resolveHJust(x$just, :\n",
      "“supplied color is neither numeric nor character”\n",
      "Warning message in grid.Call.graphics(C_rect, x$x, x$y, x$width, x$height, resolveHJust(x$just, :\n",
      "“supplied color is neither numeric nor character”\n",
      "Warning message in grid.Call.graphics(C_rect, x$x, x$y, x$width, x$height, resolveHJust(x$just, :\n",
      "“supplied color is neither numeric nor character”\n",
      "Warning message in grid.Call.graphics(C_rect, x$x, x$y, x$width, x$height, resolveHJust(x$just, :\n",
      "“supplied color is neither numeric nor character”\n",
      "Warning message in grid.Call.graphics(C_rect, x$x, x$y, x$width, x$height, resolveHJust(x$just, :\n",
      "“supplied color is neither numeric nor character”\n",
      "Warning message in grid.Call.graphics(C_rect, x$x, x$y, x$width, x$height, resolveHJust(x$just, :\n",
      "“supplied color is neither numeric nor character”\n",
      "Warning message in grid.Call.graphics(C_rect, x$x, x$y, x$width, x$height, resolveHJust(x$just, :\n",
      "“supplied color is neither numeric nor character”\n",
      "Warning message in grid.Call.graphics(C_rect, x$x, x$y, x$width, x$height, resolveHJust(x$just, :\n",
      "“supplied color is neither numeric nor character”\n",
      "Warning message in grid.Call.graphics(C_rect, x$x, x$y, x$width, x$height, resolveHJust(x$just, :\n",
      "“supplied color is neither numeric nor character”\n",
      "Warning message in grid.Call.graphics(C_rect, x$x, x$y, x$width, x$height, resolveHJust(x$just, :\n",
      "“supplied color is neither numeric nor character”\n",
      "Warning message in grid.Call.graphics(C_rect, x$x, x$y, x$width, x$height, resolveHJust(x$just, :\n",
      "“supplied color is neither numeric nor character”\n",
      "Warning message in grid.Call.graphics(C_rect, x$x, x$y, x$width, x$height, resolveHJust(x$just, :\n",
      "“supplied color is neither numeric nor character”\n",
      "Warning message in grid.Call.graphics(C_rect, x$x, x$y, x$width, x$height, resolveHJust(x$just, :\n",
      "“supplied color is neither numeric nor character”\n",
      "Warning message in grid.Call.graphics(C_rect, x$x, x$y, x$width, x$height, resolveHJust(x$just, :\n",
      "“supplied color is neither numeric nor character”\n",
      "Warning message in grid.Call.graphics(C_rect, x$x, x$y, x$width, x$height, resolveHJust(x$just, :\n",
      "“supplied color is neither numeric nor character”\n",
      "Warning message in grid.Call.graphics(C_rect, x$x, x$y, x$width, x$height, resolveHJust(x$just, :\n",
      "“supplied color is neither numeric nor character”\n",
      "Warning message in grid.Call.graphics(C_rect, x$x, x$y, x$width, x$height, resolveHJust(x$just, :\n",
      "“supplied color is neither numeric nor character”\n",
      "Warning message in grid.Call.graphics(C_rect, x$x, x$y, x$width, x$height, resolveHJust(x$just, :\n",
      "“supplied color is neither numeric nor character”\n",
      "Warning message in grid.Call.graphics(C_rect, x$x, x$y, x$width, x$height, resolveHJust(x$just, :\n",
      "“supplied color is neither numeric nor character”\n",
      "Warning message in grid.Call.graphics(C_rect, x$x, x$y, x$width, x$height, resolveHJust(x$just, :\n",
      "“supplied color is neither numeric nor character”\n",
      "Warning message in grid.Call.graphics(C_rect, x$x, x$y, x$width, x$height, resolveHJust(x$just, :\n",
      "“supplied color is neither numeric nor character”\n",
      "Warning message in grid.Call.graphics(C_rect, x$x, x$y, x$width, x$height, resolveHJust(x$just, :\n",
      "“supplied color is neither numeric nor character”\n",
      "Warning message in grid.Call.graphics(C_rect, x$x, x$y, x$width, x$height, resolveHJust(x$just, :\n",
      "“supplied color is neither numeric nor character”\n",
      "Warning message in grid.Call.graphics(C_rect, x$x, x$y, x$width, x$height, resolveHJust(x$just, :\n",
      "“supplied color is neither numeric nor character”\n",
      "Warning message in grid.Call.graphics(C_rect, x$x, x$y, x$width, x$height, resolveHJust(x$just, :\n",
      "“supplied color is neither numeric nor character”\n",
      "Warning message in grid.Call.graphics(C_rect, x$x, x$y, x$width, x$height, resolveHJust(x$just, :\n",
      "“supplied color is neither numeric nor character”\n",
      "Warning message in grid.Call.graphics(C_rect, x$x, x$y, x$width, x$height, resolveHJust(x$just, :\n",
      "“supplied color is neither numeric nor character”\n",
      "Warning message in grid.Call.graphics(C_rect, x$x, x$y, x$width, x$height, resolveHJust(x$just, :\n",
      "“supplied color is neither numeric nor character”\n",
      "Warning message in grid.Call.graphics(C_rect, x$x, x$y, x$width, x$height, resolveHJust(x$just, :\n",
      "“supplied color is neither numeric nor character”\n",
      "Warning message in grid.Call.graphics(C_rect, x$x, x$y, x$width, x$height, resolveHJust(x$just, :\n",
      "“supplied color is neither numeric nor character”\n",
      "Warning message in grid.Call.graphics(C_rect, x$x, x$y, x$width, x$height, resolveHJust(x$just, :\n",
      "“supplied color is neither numeric nor character”\n",
      "Warning message in grid.Call.graphics(C_rect, x$x, x$y, x$width, x$height, resolveHJust(x$just, :\n",
      "“supplied color is neither numeric nor character”\n",
      "Warning message in grid.Call.graphics(C_rect, x$x, x$y, x$width, x$height, resolveHJust(x$just, :\n",
      "“supplied color is neither numeric nor character”\n",
      "Warning message in grid.Call.graphics(C_rect, x$x, x$y, x$width, x$height, resolveHJust(x$just, :\n",
      "“supplied color is neither numeric nor character”\n",
      "Warning message in grid.Call.graphics(C_rect, x$x, x$y, x$width, x$height, resolveHJust(x$just, :\n",
      "“supplied color is neither numeric nor character”\n",
      "Warning message in grid.Call.graphics(C_rect, x$x, x$y, x$width, x$height, resolveHJust(x$just, :\n",
      "“supplied color is neither numeric nor character”\n",
      "Warning message in grid.Call.graphics(C_rect, x$x, x$y, x$width, x$height, resolveHJust(x$just, :\n",
      "“supplied color is neither numeric nor character”\n",
      "Warning message in grid.Call.graphics(C_rect, x$x, x$y, x$width, x$height, resolveHJust(x$just, :\n",
      "“supplied color is neither numeric nor character”\n",
      "Warning message in grid.Call.graphics(C_rect, x$x, x$y, x$width, x$height, resolveHJust(x$just, :\n",
      "“supplied color is neither numeric nor character”\n",
      "Warning message in grid.Call.graphics(C_rect, x$x, x$y, x$width, x$height, resolveHJust(x$just, :\n",
      "“supplied color is neither numeric nor character”\n",
      "Warning message in grid.Call.graphics(C_rect, x$x, x$y, x$width, x$height, resolveHJust(x$just, :\n",
      "“supplied color is neither numeric nor character”\n",
      "Warning message in grid.Call.graphics(C_rect, x$x, x$y, x$width, x$height, resolveHJust(x$just, :\n",
      "“supplied color is neither numeric nor character”\n",
      "Warning message in grid.Call.graphics(C_rect, x$x, x$y, x$width, x$height, resolveHJust(x$just, :\n",
      "“supplied color is neither numeric nor character”\n",
      "Warning message in grid.Call.graphics(C_rect, x$x, x$y, x$width, x$height, resolveHJust(x$just, :\n",
      "“supplied color is neither numeric nor character”\n",
      "Warning message in grid.Call.graphics(C_rect, x$x, x$y, x$width, x$height, resolveHJust(x$just, :\n",
      "“supplied color is neither numeric nor character”\n",
      "Warning message in grid.Call.graphics(C_rect, x$x, x$y, x$width, x$height, resolveHJust(x$just, :\n",
      "“supplied color is neither numeric nor character”\n",
      "Warning message in grid.Call.graphics(C_rect, x$x, x$y, x$width, x$height, resolveHJust(x$just, :\n",
      "“supplied color is neither numeric nor character”\n",
      "Warning message in grid.Call.graphics(C_rect, x$x, x$y, x$width, x$height, resolveHJust(x$just, :\n",
      "“supplied color is neither numeric nor character”\n",
      "Warning message in grid.Call.graphics(C_rect, x$x, x$y, x$width, x$height, resolveHJust(x$just, :\n",
      "“supplied color is neither numeric nor character”\n",
      "Warning message in grid.Call.graphics(C_rect, x$x, x$y, x$width, x$height, resolveHJust(x$just, :\n",
      "“supplied color is neither numeric nor character”\n",
      "Warning message in grid.Call.graphics(C_rect, x$x, x$y, x$width, x$height, resolveHJust(x$just, :\n",
      "“supplied color is neither numeric nor character”\n",
      "Warning message in grid.Call.graphics(C_rect, x$x, x$y, x$width, x$height, resolveHJust(x$just, :\n",
      "“supplied color is neither numeric nor character”\n",
      "Warning message in grid.Call.graphics(C_rect, x$x, x$y, x$width, x$height, resolveHJust(x$just, :\n",
      "“supplied color is neither numeric nor character”\n",
      "Warning message in grid.Call.graphics(C_rect, x$x, x$y, x$width, x$height, resolveHJust(x$just, :\n",
      "“supplied color is neither numeric nor character”\n",
      "Warning message in grid.Call.graphics(C_rect, x$x, x$y, x$width, x$height, resolveHJust(x$just, :\n",
      "“supplied color is neither numeric nor character”\n",
      "Warning message in grid.Call.graphics(C_rect, x$x, x$y, x$width, x$height, resolveHJust(x$just, :\n",
      "“supplied color is neither numeric nor character”\n",
      "Warning message in grid.Call.graphics(C_rect, x$x, x$y, x$width, x$height, resolveHJust(x$just, :\n",
      "“supplied color is neither numeric nor character”\n",
      "Warning message in grid.Call.graphics(C_rect, x$x, x$y, x$width, x$height, resolveHJust(x$just, :\n",
      "“supplied color is neither numeric nor character”\n",
      "Warning message in grid.Call.graphics(C_rect, x$x, x$y, x$width, x$height, resolveHJust(x$just, :\n",
      "“supplied color is neither numeric nor character”\n",
      "Warning message in grid.Call.graphics(C_rect, x$x, x$y, x$width, x$height, resolveHJust(x$just, :\n",
      "“supplied color is neither numeric nor character”\n",
      "Warning message in grid.Call.graphics(C_rect, x$x, x$y, x$width, x$height, resolveHJust(x$just, :\n",
      "“supplied color is neither numeric nor character”\n",
      "Warning message in grid.Call.graphics(C_rect, x$x, x$y, x$width, x$height, resolveHJust(x$just, :\n",
      "“supplied color is neither numeric nor character”\n",
      "Warning message in grid.Call.graphics(C_rect, x$x, x$y, x$width, x$height, resolveHJust(x$just, :\n",
      "“supplied color is neither numeric nor character”\n",
      "Warning message in grid.Call.graphics(C_rect, x$x, x$y, x$width, x$height, resolveHJust(x$just, :\n",
      "“supplied color is neither numeric nor character”\n",
      "Warning message in grid.Call.graphics(C_rect, x$x, x$y, x$width, x$height, resolveHJust(x$just, :\n",
      "“supplied color is neither numeric nor character”\n",
      "Warning message in grid.Call.graphics(C_rect, x$x, x$y, x$width, x$height, resolveHJust(x$just, :\n",
      "“supplied color is neither numeric nor character”\n",
      "Warning message in grid.Call.graphics(C_rect, x$x, x$y, x$width, x$height, resolveHJust(x$just, :\n",
      "“supplied color is neither numeric nor character”\n",
      "Warning message in grid.Call.graphics(C_rect, x$x, x$y, x$width, x$height, resolveHJust(x$just, :\n",
      "“supplied color is neither numeric nor character”\n",
      "Warning message in grid.Call.graphics(C_rect, x$x, x$y, x$width, x$height, resolveHJust(x$just, :\n",
      "“supplied color is neither numeric nor character”\n",
      "Warning message in grid.Call.graphics(C_rect, x$x, x$y, x$width, x$height, resolveHJust(x$just, :\n",
      "“supplied color is neither numeric nor character”\n",
      "Warning message in grid.Call.graphics(C_rect, x$x, x$y, x$width, x$height, resolveHJust(x$just, :\n",
      "“supplied color is neither numeric nor character”\n",
      "Warning message in grid.Call.graphics(C_rect, x$x, x$y, x$width, x$height, resolveHJust(x$just, :\n",
      "“supplied color is neither numeric nor character”\n",
      "Warning message in grid.Call.graphics(C_rect, x$x, x$y, x$width, x$height, resolveHJust(x$just, :\n",
      "“supplied color is neither numeric nor character”\n",
      "Warning message in grid.Call.graphics(C_rect, x$x, x$y, x$width, x$height, resolveHJust(x$just, :\n",
      "“supplied color is neither numeric nor character”\n",
      "Warning message in grid.Call.graphics(C_rect, x$x, x$y, x$width, x$height, resolveHJust(x$just, :\n",
      "“supplied color is neither numeric nor character”\n",
      "Warning message in grid.Call.graphics(C_rect, x$x, x$y, x$width, x$height, resolveHJust(x$just, :\n",
      "“supplied color is neither numeric nor character”\n",
      "Warning message in grid.Call.graphics(C_rect, x$x, x$y, x$width, x$height, resolveHJust(x$just, :\n",
      "“supplied color is neither numeric nor character”\n",
      "Warning message in grid.Call.graphics(C_rect, x$x, x$y, x$width, x$height, resolveHJust(x$just, :\n",
      "“supplied color is neither numeric nor character”\n",
      "Warning message in grid.Call.graphics(C_rect, x$x, x$y, x$width, x$height, resolveHJust(x$just, :\n",
      "“supplied color is neither numeric nor character”\n",
      "Warning message in grid.Call.graphics(C_rect, x$x, x$y, x$width, x$height, resolveHJust(x$just, :\n",
      "“supplied color is neither numeric nor character”\n",
      "Warning message in grid.Call.graphics(C_rect, x$x, x$y, x$width, x$height, resolveHJust(x$just, :\n",
      "“supplied color is neither numeric nor character”\n",
      "Warning message in grid.Call.graphics(C_rect, x$x, x$y, x$width, x$height, resolveHJust(x$just, :\n",
      "“supplied color is neither numeric nor character”\n",
      "Warning message in grid.Call.graphics(C_rect, x$x, x$y, x$width, x$height, resolveHJust(x$just, :\n",
      "“supplied color is neither numeric nor character”\n",
      "Warning message in grid.Call.graphics(C_rect, x$x, x$y, x$width, x$height, resolveHJust(x$just, :\n",
      "“supplied color is neither numeric nor character”\n",
      "Warning message in grid.Call.graphics(C_rect, x$x, x$y, x$width, x$height, resolveHJust(x$just, :\n",
      "“supplied color is neither numeric nor character”\n",
      "Warning message in grid.Call.graphics(C_rect, x$x, x$y, x$width, x$height, resolveHJust(x$just, :\n",
      "“supplied color is neither numeric nor character”\n",
      "Warning message in grid.Call.graphics(C_rect, x$x, x$y, x$width, x$height, resolveHJust(x$just, :\n",
      "“supplied color is neither numeric nor character”\n",
      "Warning message in grid.Call.graphics(C_rect, x$x, x$y, x$width, x$height, resolveHJust(x$just, :\n",
      "“supplied color is neither numeric nor character”\n",
      "Warning message in grid.Call.graphics(C_rect, x$x, x$y, x$width, x$height, resolveHJust(x$just, :\n",
      "“supplied color is neither numeric nor character”\n",
      "Warning message in grid.Call.graphics(C_rect, x$x, x$y, x$width, x$height, resolveHJust(x$just, :\n",
      "“supplied color is neither numeric nor character”\n",
      "Warning message in grid.Call.graphics(C_rect, x$x, x$y, x$width, x$height, resolveHJust(x$just, :\n",
      "“supplied color is neither numeric nor character”\n",
      "Warning message in grid.Call.graphics(C_rect, x$x, x$y, x$width, x$height, resolveHJust(x$just, :\n",
      "“supplied color is neither numeric nor character”\n",
      "Warning message in grid.Call.graphics(C_rect, x$x, x$y, x$width, x$height, resolveHJust(x$just, :\n",
      "“supplied color is neither numeric nor character”\n",
      "Warning message in grid.Call.graphics(C_rect, x$x, x$y, x$width, x$height, resolveHJust(x$just, :\n",
      "“supplied color is neither numeric nor character”\n",
      "Warning message in grid.Call.graphics(C_rect, x$x, x$y, x$width, x$height, resolveHJust(x$just, :\n",
      "“supplied color is neither numeric nor character”\n",
      "Warning message in grid.Call.graphics(C_rect, x$x, x$y, x$width, x$height, resolveHJust(x$just, :\n",
      "“supplied color is neither numeric nor character”\n",
      "Warning message in grid.Call.graphics(C_rect, x$x, x$y, x$width, x$height, resolveHJust(x$just, :\n",
      "“supplied color is neither numeric nor character”\n",
      "Warning message in grid.Call.graphics(C_rect, x$x, x$y, x$width, x$height, resolveHJust(x$just, :\n",
      "“supplied color is neither numeric nor character”\n",
      "Warning message in grid.Call.graphics(C_rect, x$x, x$y, x$width, x$height, resolveHJust(x$just, :\n",
      "“supplied color is neither numeric nor character”\n",
      "Warning message in grid.Call.graphics(C_rect, x$x, x$y, x$width, x$height, resolveHJust(x$just, :\n",
      "“supplied color is neither numeric nor character”\n",
      "Warning message in grid.Call.graphics(C_rect, x$x, x$y, x$width, x$height, resolveHJust(x$just, :\n",
      "“supplied color is neither numeric nor character”\n",
      "Warning message in grid.Call.graphics(C_rect, x$x, x$y, x$width, x$height, resolveHJust(x$just, :\n",
      "“supplied color is neither numeric nor character”\n",
      "Warning message in grid.Call.graphics(C_rect, x$x, x$y, x$width, x$height, resolveHJust(x$just, :\n",
      "“supplied color is neither numeric nor character”\n",
      "Warning message in grid.Call.graphics(C_rect, x$x, x$y, x$width, x$height, resolveHJust(x$just, :\n",
      "“supplied color is neither numeric nor character”\n",
      "Warning message in grid.Call.graphics(C_rect, x$x, x$y, x$width, x$height, resolveHJust(x$just, :\n",
      "“supplied color is neither numeric nor character”\n",
      "Warning message in grid.Call.graphics(C_rect, x$x, x$y, x$width, x$height, resolveHJust(x$just, :\n",
      "“supplied color is neither numeric nor character”\n",
      "Warning message in grid.Call.graphics(C_rect, x$x, x$y, x$width, x$height, resolveHJust(x$just, :\n",
      "“supplied color is neither numeric nor character”\n",
      "Warning message in grid.Call.graphics(C_rect, x$x, x$y, x$width, x$height, resolveHJust(x$just, :\n",
      "“supplied color is neither numeric nor character”\n",
      "Warning message in grid.Call.graphics(C_rect, x$x, x$y, x$width, x$height, resolveHJust(x$just, :\n",
      "“supplied color is neither numeric nor character”\n",
      "Warning message in grid.Call.graphics(C_rect, x$x, x$y, x$width, x$height, resolveHJust(x$just, :\n",
      "“supplied color is neither numeric nor character”\n",
      "Warning message in grid.Call.graphics(C_rect, x$x, x$y, x$width, x$height, resolveHJust(x$just, :\n",
      "“supplied color is neither numeric nor character”\n",
      "Warning message in grid.Call.graphics(C_rect, x$x, x$y, x$width, x$height, resolveHJust(x$just, :\n",
      "“supplied color is neither numeric nor character”\n",
      "Warning message in grid.Call.graphics(C_rect, x$x, x$y, x$width, x$height, resolveHJust(x$just, :\n",
      "“supplied color is neither numeric nor character”\n",
      "Warning message in grid.Call.graphics(C_rect, x$x, x$y, x$width, x$height, resolveHJust(x$just, :\n",
      "“supplied color is neither numeric nor character”\n",
      "Warning message in grid.Call.graphics(C_rect, x$x, x$y, x$width, x$height, resolveHJust(x$just, :\n",
      "“supplied color is neither numeric nor character”\n",
      "Warning message in grid.Call.graphics(C_rect, x$x, x$y, x$width, x$height, resolveHJust(x$just, :\n",
      "“supplied color is neither numeric nor character”\n",
      "Warning message in grid.Call.graphics(C_rect, x$x, x$y, x$width, x$height, resolveHJust(x$just, :\n",
      "“supplied color is neither numeric nor character”\n",
      "Warning message in grid.Call.graphics(C_rect, x$x, x$y, x$width, x$height, resolveHJust(x$just, :\n",
      "“supplied color is neither numeric nor character”\n",
      "Warning message in grid.Call.graphics(C_rect, x$x, x$y, x$width, x$height, resolveHJust(x$just, :\n",
      "“supplied color is neither numeric nor character”\n",
      "Warning message in grid.Call.graphics(C_rect, x$x, x$y, x$width, x$height, resolveHJust(x$just, :\n",
      "“supplied color is neither numeric nor character”\n",
      "Warning message in grid.Call.graphics(C_rect, x$x, x$y, x$width, x$height, resolveHJust(x$just, :\n",
      "“supplied color is neither numeric nor character”\n"
     ]
    },
    {
     "data": {
      "text/html": [
       "<strong>png:</strong> 2"
      ],
      "text/latex": [
       "\\textbf{png:} 2"
      ],
      "text/markdown": [
       "**png:** 2"
      ],
      "text/plain": [
       "png \n",
       "  2 "
      ]
     },
     "metadata": {},
     "output_type": "display_data"
    }
   ],
   "source": [
    "pdf(\"0006_plot.pdf\", width=10, height=10)\n",
    "print(plot1)\n",
    "print(plot2)\n",
    "print(plot3)\n",
    "print(plot4)\n",
    "dev.off()"
   ]
  },
  {
   "cell_type": "code",
   "execution_count": 52,
   "metadata": {
    "vscode": {
     "languageId": "r"
    }
   },
   "outputs": [
    {
     "name": "stderr",
     "output_type": "stream",
     "text": [
      "Warning message in grid.Call.graphics(C_rect, x$x, x$y, x$width, x$height, resolveHJust(x$just, :\n",
      "“supplied color is neither numeric nor character”\n",
      "Warning message in grid.Call.graphics(C_rect, x$x, x$y, x$width, x$height, resolveHJust(x$just, :\n",
      "“supplied color is neither numeric nor character”\n",
      "Warning message in grid.Call.graphics(C_rect, x$x, x$y, x$width, x$height, resolveHJust(x$just, :\n",
      "“supplied color is neither numeric nor character”\n",
      "Warning message in grid.Call.graphics(C_rect, x$x, x$y, x$width, x$height, resolveHJust(x$just, :\n",
      "“supplied color is neither numeric nor character”\n",
      "Warning message in grid.Call.graphics(C_rect, x$x, x$y, x$width, x$height, resolveHJust(x$just, :\n",
      "“supplied color is neither numeric nor character”\n",
      "Warning message in grid.Call.graphics(C_rect, x$x, x$y, x$width, x$height, resolveHJust(x$just, :\n",
      "“supplied color is neither numeric nor character”\n",
      "Warning message in grid.Call.graphics(C_rect, x$x, x$y, x$width, x$height, resolveHJust(x$just, :\n",
      "“supplied color is neither numeric nor character”\n",
      "Warning message in grid.Call.graphics(C_rect, x$x, x$y, x$width, x$height, resolveHJust(x$just, :\n",
      "“supplied color is neither numeric nor character”\n",
      "Warning message in grid.Call.graphics(C_rect, x$x, x$y, x$width, x$height, resolveHJust(x$just, :\n",
      "“supplied color is neither numeric nor character”\n",
      "Warning message in grid.Call.graphics(C_rect, x$x, x$y, x$width, x$height, resolveHJust(x$just, :\n",
      "“supplied color is neither numeric nor character”\n",
      "Warning message in grid.Call.graphics(C_rect, x$x, x$y, x$width, x$height, resolveHJust(x$just, :\n",
      "“supplied color is neither numeric nor character”\n",
      "Warning message in grid.Call.graphics(C_rect, x$x, x$y, x$width, x$height, resolveHJust(x$just, :\n",
      "“supplied color is neither numeric nor character”\n",
      "Warning message in grid.Call.graphics(C_rect, x$x, x$y, x$width, x$height, resolveHJust(x$just, :\n",
      "“supplied color is neither numeric nor character”\n",
      "Warning message in grid.Call.graphics(C_rect, x$x, x$y, x$width, x$height, resolveHJust(x$just, :\n",
      "“supplied color is neither numeric nor character”\n",
      "Warning message in grid.Call.graphics(C_rect, x$x, x$y, x$width, x$height, resolveHJust(x$just, :\n",
      "“supplied color is neither numeric nor character”\n",
      "Warning message in grid.Call.graphics(C_rect, x$x, x$y, x$width, x$height, resolveHJust(x$just, :\n",
      "“supplied color is neither numeric nor character”\n",
      "Warning message in grid.Call.graphics(C_rect, x$x, x$y, x$width, x$height, resolveHJust(x$just, :\n",
      "“supplied color is neither numeric nor character”\n",
      "Warning message in grid.Call.graphics(C_rect, x$x, x$y, x$width, x$height, resolveHJust(x$just, :\n",
      "“supplied color is neither numeric nor character”\n",
      "Warning message in grid.Call.graphics(C_rect, x$x, x$y, x$width, x$height, resolveHJust(x$just, :\n",
      "“supplied color is neither numeric nor character”\n",
      "Warning message in grid.Call.graphics(C_rect, x$x, x$y, x$width, x$height, resolveHJust(x$just, :\n",
      "“supplied color is neither numeric nor character”\n",
      "Warning message in grid.Call.graphics(C_rect, x$x, x$y, x$width, x$height, resolveHJust(x$just, :\n",
      "“supplied color is neither numeric nor character”\n",
      "Warning message in grid.Call.graphics(C_rect, x$x, x$y, x$width, x$height, resolveHJust(x$just, :\n",
      "“supplied color is neither numeric nor character”\n",
      "Warning message in grid.Call.graphics(C_rect, x$x, x$y, x$width, x$height, resolveHJust(x$just, :\n",
      "“supplied color is neither numeric nor character”\n",
      "Warning message in grid.Call.graphics(C_rect, x$x, x$y, x$width, x$height, resolveHJust(x$just, :\n",
      "“supplied color is neither numeric nor character”\n",
      "Warning message in grid.Call.graphics(C_rect, x$x, x$y, x$width, x$height, resolveHJust(x$just, :\n",
      "“supplied color is neither numeric nor character”\n",
      "Warning message in grid.Call.graphics(C_rect, x$x, x$y, x$width, x$height, resolveHJust(x$just, :\n",
      "“supplied color is neither numeric nor character”\n",
      "Warning message in grid.Call.graphics(C_rect, x$x, x$y, x$width, x$height, resolveHJust(x$just, :\n",
      "“supplied color is neither numeric nor character”\n",
      "Warning message in grid.Call.graphics(C_rect, x$x, x$y, x$width, x$height, resolveHJust(x$just, :\n",
      "“supplied color is neither numeric nor character”\n",
      "Warning message in grid.Call.graphics(C_rect, x$x, x$y, x$width, x$height, resolveHJust(x$just, :\n",
      "“supplied color is neither numeric nor character”\n",
      "Warning message in grid.Call.graphics(C_rect, x$x, x$y, x$width, x$height, resolveHJust(x$just, :\n",
      "“supplied color is neither numeric nor character”\n",
      "Warning message in grid.Call.graphics(C_rect, x$x, x$y, x$width, x$height, resolveHJust(x$just, :\n",
      "“supplied color is neither numeric nor character”\n",
      "Warning message in grid.Call.graphics(C_rect, x$x, x$y, x$width, x$height, resolveHJust(x$just, :\n",
      "“supplied color is neither numeric nor character”\n",
      "Warning message in grid.Call.graphics(C_rect, x$x, x$y, x$width, x$height, resolveHJust(x$just, :\n",
      "“supplied color is neither numeric nor character”\n",
      "Warning message in grid.Call.graphics(C_rect, x$x, x$y, x$width, x$height, resolveHJust(x$just, :\n",
      "“supplied color is neither numeric nor character”\n",
      "Warning message in grid.Call.graphics(C_rect, x$x, x$y, x$width, x$height, resolveHJust(x$just, :\n",
      "“supplied color is neither numeric nor character”\n",
      "Warning message in grid.Call.graphics(C_rect, x$x, x$y, x$width, x$height, resolveHJust(x$just, :\n",
      "“supplied color is neither numeric nor character”\n"
     ]
    },
    {
     "data": {
      "text/html": [
       "<strong>png:</strong> 2"
      ],
      "text/latex": [
       "\\textbf{png:} 2"
      ],
      "text/markdown": [
       "**png:** 2"
      ],
      "text/plain": [
       "png \n",
       "  2 "
      ]
     },
     "metadata": {},
     "output_type": "display_data"
    },
    {
     "name": "stderr",
     "output_type": "stream",
     "text": [
      "Warning message in grid.Call.graphics(C_rect, x$x, x$y, x$width, x$height, resolveHJust(x$just, :\n",
      "“supplied color is neither numeric nor character”\n",
      "Warning message in grid.Call.graphics(C_rect, x$x, x$y, x$width, x$height, resolveHJust(x$just, :\n",
      "“supplied color is neither numeric nor character”\n",
      "Warning message in grid.Call.graphics(C_rect, x$x, x$y, x$width, x$height, resolveHJust(x$just, :\n",
      "“supplied color is neither numeric nor character”\n",
      "Warning message in grid.Call.graphics(C_rect, x$x, x$y, x$width, x$height, resolveHJust(x$just, :\n",
      "“supplied color is neither numeric nor character”\n",
      "Warning message in grid.Call.graphics(C_rect, x$x, x$y, x$width, x$height, resolveHJust(x$just, :\n",
      "“supplied color is neither numeric nor character”\n",
      "Warning message in grid.Call.graphics(C_rect, x$x, x$y, x$width, x$height, resolveHJust(x$just, :\n",
      "“supplied color is neither numeric nor character”\n",
      "Warning message in grid.Call.graphics(C_rect, x$x, x$y, x$width, x$height, resolveHJust(x$just, :\n",
      "“supplied color is neither numeric nor character”\n",
      "Warning message in grid.Call.graphics(C_rect, x$x, x$y, x$width, x$height, resolveHJust(x$just, :\n",
      "“supplied color is neither numeric nor character”\n",
      "Warning message in grid.Call.graphics(C_rect, x$x, x$y, x$width, x$height, resolveHJust(x$just, :\n",
      "“supplied color is neither numeric nor character”\n",
      "Warning message in grid.Call.graphics(C_rect, x$x, x$y, x$width, x$height, resolveHJust(x$just, :\n",
      "“supplied color is neither numeric nor character”\n",
      "Warning message in grid.Call.graphics(C_rect, x$x, x$y, x$width, x$height, resolveHJust(x$just, :\n",
      "“supplied color is neither numeric nor character”\n",
      "Warning message in grid.Call.graphics(C_rect, x$x, x$y, x$width, x$height, resolveHJust(x$just, :\n",
      "“supplied color is neither numeric nor character”\n",
      "Warning message in grid.Call.graphics(C_rect, x$x, x$y, x$width, x$height, resolveHJust(x$just, :\n",
      "“supplied color is neither numeric nor character”\n",
      "Warning message in grid.Call.graphics(C_rect, x$x, x$y, x$width, x$height, resolveHJust(x$just, :\n",
      "“supplied color is neither numeric nor character”\n",
      "Warning message in grid.Call.graphics(C_rect, x$x, x$y, x$width, x$height, resolveHJust(x$just, :\n",
      "“supplied color is neither numeric nor character”\n",
      "Warning message in grid.Call.graphics(C_rect, x$x, x$y, x$width, x$height, resolveHJust(x$just, :\n",
      "“supplied color is neither numeric nor character”\n",
      "Warning message in grid.Call.graphics(C_rect, x$x, x$y, x$width, x$height, resolveHJust(x$just, :\n",
      "“supplied color is neither numeric nor character”\n",
      "Warning message in grid.Call.graphics(C_rect, x$x, x$y, x$width, x$height, resolveHJust(x$just, :\n",
      "“supplied color is neither numeric nor character”\n",
      "Warning message in grid.Call.graphics(C_rect, x$x, x$y, x$width, x$height, resolveHJust(x$just, :\n",
      "“supplied color is neither numeric nor character”\n",
      "Warning message in grid.Call.graphics(C_rect, x$x, x$y, x$width, x$height, resolveHJust(x$just, :\n",
      "“supplied color is neither numeric nor character”\n",
      "Warning message in grid.Call.graphics(C_rect, x$x, x$y, x$width, x$height, resolveHJust(x$just, :\n",
      "“supplied color is neither numeric nor character”\n",
      "Warning message in grid.Call.graphics(C_rect, x$x, x$y, x$width, x$height, resolveHJust(x$just, :\n",
      "“supplied color is neither numeric nor character”\n",
      "Warning message in grid.Call.graphics(C_rect, x$x, x$y, x$width, x$height, resolveHJust(x$just, :\n",
      "“supplied color is neither numeric nor character”\n",
      "Warning message in grid.Call.graphics(C_rect, x$x, x$y, x$width, x$height, resolveHJust(x$just, :\n",
      "“supplied color is neither numeric nor character”\n",
      "Warning message in grid.Call.graphics(C_rect, x$x, x$y, x$width, x$height, resolveHJust(x$just, :\n",
      "“supplied color is neither numeric nor character”\n",
      "Warning message in grid.Call.graphics(C_rect, x$x, x$y, x$width, x$height, resolveHJust(x$just, :\n",
      "“supplied color is neither numeric nor character”\n",
      "Warning message in grid.Call.graphics(C_rect, x$x, x$y, x$width, x$height, resolveHJust(x$just, :\n",
      "“supplied color is neither numeric nor character”\n",
      "Warning message in grid.Call.graphics(C_rect, x$x, x$y, x$width, x$height, resolveHJust(x$just, :\n",
      "“supplied color is neither numeric nor character”\n",
      "Warning message in grid.Call.graphics(C_rect, x$x, x$y, x$width, x$height, resolveHJust(x$just, :\n",
      "“supplied color is neither numeric nor character”\n",
      "Warning message in grid.Call.graphics(C_rect, x$x, x$y, x$width, x$height, resolveHJust(x$just, :\n",
      "“supplied color is neither numeric nor character”\n",
      "Warning message in grid.Call.graphics(C_rect, x$x, x$y, x$width, x$height, resolveHJust(x$just, :\n",
      "“supplied color is neither numeric nor character”\n",
      "Warning message in grid.Call.graphics(C_rect, x$x, x$y, x$width, x$height, resolveHJust(x$just, :\n",
      "“supplied color is neither numeric nor character”\n",
      "Warning message in grid.Call.graphics(C_rect, x$x, x$y, x$width, x$height, resolveHJust(x$just, :\n",
      "“supplied color is neither numeric nor character”\n",
      "Warning message in grid.Call.graphics(C_rect, x$x, x$y, x$width, x$height, resolveHJust(x$just, :\n",
      "“supplied color is neither numeric nor character”\n",
      "Warning message in grid.Call.graphics(C_rect, x$x, x$y, x$width, x$height, resolveHJust(x$just, :\n",
      "“supplied color is neither numeric nor character”\n",
      "Warning message in grid.Call.graphics(C_rect, x$x, x$y, x$width, x$height, resolveHJust(x$just, :\n",
      "“supplied color is neither numeric nor character”\n"
     ]
    },
    {
     "data": {
      "text/html": [
       "<strong>png:</strong> 2"
      ],
      "text/latex": [
       "\\textbf{png:} 2"
      ],
      "text/markdown": [
       "**png:** 2"
      ],
      "text/plain": [
       "png \n",
       "  2 "
      ]
     },
     "metadata": {},
     "output_type": "display_data"
    },
    {
     "name": "stderr",
     "output_type": "stream",
     "text": [
      "Warning message in grid.Call.graphics(C_rect, x$x, x$y, x$width, x$height, resolveHJust(x$just, :\n",
      "“supplied color is neither numeric nor character”\n",
      "Warning message in grid.Call.graphics(C_rect, x$x, x$y, x$width, x$height, resolveHJust(x$just, :\n",
      "“supplied color is neither numeric nor character”\n",
      "Warning message in grid.Call.graphics(C_rect, x$x, x$y, x$width, x$height, resolveHJust(x$just, :\n",
      "“supplied color is neither numeric nor character”\n",
      "Warning message in grid.Call.graphics(C_rect, x$x, x$y, x$width, x$height, resolveHJust(x$just, :\n",
      "“supplied color is neither numeric nor character”\n",
      "Warning message in grid.Call.graphics(C_rect, x$x, x$y, x$width, x$height, resolveHJust(x$just, :\n",
      "“supplied color is neither numeric nor character”\n",
      "Warning message in grid.Call.graphics(C_rect, x$x, x$y, x$width, x$height, resolveHJust(x$just, :\n",
      "“supplied color is neither numeric nor character”\n",
      "Warning message in grid.Call.graphics(C_rect, x$x, x$y, x$width, x$height, resolveHJust(x$just, :\n",
      "“supplied color is neither numeric nor character”\n",
      "Warning message in grid.Call.graphics(C_rect, x$x, x$y, x$width, x$height, resolveHJust(x$just, :\n",
      "“supplied color is neither numeric nor character”\n",
      "Warning message in grid.Call.graphics(C_rect, x$x, x$y, x$width, x$height, resolveHJust(x$just, :\n",
      "“supplied color is neither numeric nor character”\n",
      "Warning message in grid.Call.graphics(C_rect, x$x, x$y, x$width, x$height, resolveHJust(x$just, :\n",
      "“supplied color is neither numeric nor character”\n",
      "Warning message in grid.Call.graphics(C_rect, x$x, x$y, x$width, x$height, resolveHJust(x$just, :\n",
      "“supplied color is neither numeric nor character”\n",
      "Warning message in grid.Call.graphics(C_rect, x$x, x$y, x$width, x$height, resolveHJust(x$just, :\n",
      "“supplied color is neither numeric nor character”\n",
      "Warning message in grid.Call.graphics(C_rect, x$x, x$y, x$width, x$height, resolveHJust(x$just, :\n",
      "“supplied color is neither numeric nor character”\n",
      "Warning message in grid.Call.graphics(C_rect, x$x, x$y, x$width, x$height, resolveHJust(x$just, :\n",
      "“supplied color is neither numeric nor character”\n",
      "Warning message in grid.Call.graphics(C_rect, x$x, x$y, x$width, x$height, resolveHJust(x$just, :\n",
      "“supplied color is neither numeric nor character”\n",
      "Warning message in grid.Call.graphics(C_rect, x$x, x$y, x$width, x$height, resolveHJust(x$just, :\n",
      "“supplied color is neither numeric nor character”\n",
      "Warning message in grid.Call.graphics(C_rect, x$x, x$y, x$width, x$height, resolveHJust(x$just, :\n",
      "“supplied color is neither numeric nor character”\n",
      "Warning message in grid.Call.graphics(C_rect, x$x, x$y, x$width, x$height, resolveHJust(x$just, :\n",
      "“supplied color is neither numeric nor character”\n",
      "Warning message in grid.Call.graphics(C_rect, x$x, x$y, x$width, x$height, resolveHJust(x$just, :\n",
      "“supplied color is neither numeric nor character”\n",
      "Warning message in grid.Call.graphics(C_rect, x$x, x$y, x$width, x$height, resolveHJust(x$just, :\n",
      "“supplied color is neither numeric nor character”\n",
      "Warning message in grid.Call.graphics(C_rect, x$x, x$y, x$width, x$height, resolveHJust(x$just, :\n",
      "“supplied color is neither numeric nor character”\n",
      "Warning message in grid.Call.graphics(C_rect, x$x, x$y, x$width, x$height, resolveHJust(x$just, :\n",
      "“supplied color is neither numeric nor character”\n",
      "Warning message in grid.Call.graphics(C_rect, x$x, x$y, x$width, x$height, resolveHJust(x$just, :\n",
      "“supplied color is neither numeric nor character”\n",
      "Warning message in grid.Call.graphics(C_rect, x$x, x$y, x$width, x$height, resolveHJust(x$just, :\n",
      "“supplied color is neither numeric nor character”\n",
      "Warning message in grid.Call.graphics(C_rect, x$x, x$y, x$width, x$height, resolveHJust(x$just, :\n",
      "“supplied color is neither numeric nor character”\n",
      "Warning message in grid.Call.graphics(C_rect, x$x, x$y, x$width, x$height, resolveHJust(x$just, :\n",
      "“supplied color is neither numeric nor character”\n",
      "Warning message in grid.Call.graphics(C_rect, x$x, x$y, x$width, x$height, resolveHJust(x$just, :\n",
      "“supplied color is neither numeric nor character”\n",
      "Warning message in grid.Call.graphics(C_rect, x$x, x$y, x$width, x$height, resolveHJust(x$just, :\n",
      "“supplied color is neither numeric nor character”\n",
      "Warning message in grid.Call.graphics(C_rect, x$x, x$y, x$width, x$height, resolveHJust(x$just, :\n",
      "“supplied color is neither numeric nor character”\n",
      "Warning message in grid.Call.graphics(C_rect, x$x, x$y, x$width, x$height, resolveHJust(x$just, :\n",
      "“supplied color is neither numeric nor character”\n",
      "Warning message in grid.Call.graphics(C_rect, x$x, x$y, x$width, x$height, resolveHJust(x$just, :\n",
      "“supplied color is neither numeric nor character”\n",
      "Warning message in grid.Call.graphics(C_rect, x$x, x$y, x$width, x$height, resolveHJust(x$just, :\n",
      "“supplied color is neither numeric nor character”\n",
      "Warning message in grid.Call.graphics(C_rect, x$x, x$y, x$width, x$height, resolveHJust(x$just, :\n",
      "“supplied color is neither numeric nor character”\n",
      "Warning message in grid.Call.graphics(C_rect, x$x, x$y, x$width, x$height, resolveHJust(x$just, :\n",
      "“supplied color is neither numeric nor character”\n",
      "Warning message in grid.Call.graphics(C_rect, x$x, x$y, x$width, x$height, resolveHJust(x$just, :\n",
      "“supplied color is neither numeric nor character”\n",
      "Warning message in grid.Call.graphics(C_rect, x$x, x$y, x$width, x$height, resolveHJust(x$just, :\n",
      "“supplied color is neither numeric nor character”\n"
     ]
    },
    {
     "data": {
      "text/html": [
       "<strong>png:</strong> 2"
      ],
      "text/latex": [
       "\\textbf{png:} 2"
      ],
      "text/markdown": [
       "**png:** 2"
      ],
      "text/plain": [
       "png \n",
       "  2 "
      ]
     },
     "metadata": {},
     "output_type": "display_data"
    },
    {
     "name": "stderr",
     "output_type": "stream",
     "text": [
      "Warning message in grid.Call.graphics(C_rect, x$x, x$y, x$width, x$height, resolveHJust(x$just, :\n",
      "“supplied color is neither numeric nor character”\n",
      "Warning message in grid.Call.graphics(C_rect, x$x, x$y, x$width, x$height, resolveHJust(x$just, :\n",
      "“supplied color is neither numeric nor character”\n",
      "Warning message in grid.Call.graphics(C_rect, x$x, x$y, x$width, x$height, resolveHJust(x$just, :\n",
      "“supplied color is neither numeric nor character”\n",
      "Warning message in grid.Call.graphics(C_rect, x$x, x$y, x$width, x$height, resolveHJust(x$just, :\n",
      "“supplied color is neither numeric nor character”\n",
      "Warning message in grid.Call.graphics(C_rect, x$x, x$y, x$width, x$height, resolveHJust(x$just, :\n",
      "“supplied color is neither numeric nor character”\n",
      "Warning message in grid.Call.graphics(C_rect, x$x, x$y, x$width, x$height, resolveHJust(x$just, :\n",
      "“supplied color is neither numeric nor character”\n",
      "Warning message in grid.Call.graphics(C_rect, x$x, x$y, x$width, x$height, resolveHJust(x$just, :\n",
      "“supplied color is neither numeric nor character”\n",
      "Warning message in grid.Call.graphics(C_rect, x$x, x$y, x$width, x$height, resolveHJust(x$just, :\n",
      "“supplied color is neither numeric nor character”\n",
      "Warning message in grid.Call.graphics(C_rect, x$x, x$y, x$width, x$height, resolveHJust(x$just, :\n",
      "“supplied color is neither numeric nor character”\n",
      "Warning message in grid.Call.graphics(C_rect, x$x, x$y, x$width, x$height, resolveHJust(x$just, :\n",
      "“supplied color is neither numeric nor character”\n",
      "Warning message in grid.Call.graphics(C_rect, x$x, x$y, x$width, x$height, resolveHJust(x$just, :\n",
      "“supplied color is neither numeric nor character”\n",
      "Warning message in grid.Call.graphics(C_rect, x$x, x$y, x$width, x$height, resolveHJust(x$just, :\n",
      "“supplied color is neither numeric nor character”\n",
      "Warning message in grid.Call.graphics(C_rect, x$x, x$y, x$width, x$height, resolveHJust(x$just, :\n",
      "“supplied color is neither numeric nor character”\n",
      "Warning message in grid.Call.graphics(C_rect, x$x, x$y, x$width, x$height, resolveHJust(x$just, :\n",
      "“supplied color is neither numeric nor character”\n",
      "Warning message in grid.Call.graphics(C_rect, x$x, x$y, x$width, x$height, resolveHJust(x$just, :\n",
      "“supplied color is neither numeric nor character”\n",
      "Warning message in grid.Call.graphics(C_rect, x$x, x$y, x$width, x$height, resolveHJust(x$just, :\n",
      "“supplied color is neither numeric nor character”\n",
      "Warning message in grid.Call.graphics(C_rect, x$x, x$y, x$width, x$height, resolveHJust(x$just, :\n",
      "“supplied color is neither numeric nor character”\n",
      "Warning message in grid.Call.graphics(C_rect, x$x, x$y, x$width, x$height, resolveHJust(x$just, :\n",
      "“supplied color is neither numeric nor character”\n",
      "Warning message in grid.Call.graphics(C_rect, x$x, x$y, x$width, x$height, resolveHJust(x$just, :\n",
      "“supplied color is neither numeric nor character”\n",
      "Warning message in grid.Call.graphics(C_rect, x$x, x$y, x$width, x$height, resolveHJust(x$just, :\n",
      "“supplied color is neither numeric nor character”\n",
      "Warning message in grid.Call.graphics(C_rect, x$x, x$y, x$width, x$height, resolveHJust(x$just, :\n",
      "“supplied color is neither numeric nor character”\n",
      "Warning message in grid.Call.graphics(C_rect, x$x, x$y, x$width, x$height, resolveHJust(x$just, :\n",
      "“supplied color is neither numeric nor character”\n",
      "Warning message in grid.Call.graphics(C_rect, x$x, x$y, x$width, x$height, resolveHJust(x$just, :\n",
      "“supplied color is neither numeric nor character”\n",
      "Warning message in grid.Call.graphics(C_rect, x$x, x$y, x$width, x$height, resolveHJust(x$just, :\n",
      "“supplied color is neither numeric nor character”\n",
      "Warning message in grid.Call.graphics(C_rect, x$x, x$y, x$width, x$height, resolveHJust(x$just, :\n",
      "“supplied color is neither numeric nor character”\n",
      "Warning message in grid.Call.graphics(C_rect, x$x, x$y, x$width, x$height, resolveHJust(x$just, :\n",
      "“supplied color is neither numeric nor character”\n",
      "Warning message in grid.Call.graphics(C_rect, x$x, x$y, x$width, x$height, resolveHJust(x$just, :\n",
      "“supplied color is neither numeric nor character”\n",
      "Warning message in grid.Call.graphics(C_rect, x$x, x$y, x$width, x$height, resolveHJust(x$just, :\n",
      "“supplied color is neither numeric nor character”\n",
      "Warning message in grid.Call.graphics(C_rect, x$x, x$y, x$width, x$height, resolveHJust(x$just, :\n",
      "“supplied color is neither numeric nor character”\n",
      "Warning message in grid.Call.graphics(C_rect, x$x, x$y, x$width, x$height, resolveHJust(x$just, :\n",
      "“supplied color is neither numeric nor character”\n",
      "Warning message in grid.Call.graphics(C_rect, x$x, x$y, x$width, x$height, resolveHJust(x$just, :\n",
      "“supplied color is neither numeric nor character”\n",
      "Warning message in grid.Call.graphics(C_rect, x$x, x$y, x$width, x$height, resolveHJust(x$just, :\n",
      "“supplied color is neither numeric nor character”\n",
      "Warning message in grid.Call.graphics(C_rect, x$x, x$y, x$width, x$height, resolveHJust(x$just, :\n",
      "“supplied color is neither numeric nor character”\n",
      "Warning message in grid.Call.graphics(C_rect, x$x, x$y, x$width, x$height, resolveHJust(x$just, :\n",
      "“supplied color is neither numeric nor character”\n",
      "Warning message in grid.Call.graphics(C_rect, x$x, x$y, x$width, x$height, resolveHJust(x$just, :\n",
      "“supplied color is neither numeric nor character”\n",
      "Warning message in grid.Call.graphics(C_rect, x$x, x$y, x$width, x$height, resolveHJust(x$just, :\n",
      "“supplied color is neither numeric nor character”\n"
     ]
    },
    {
     "data": {
      "text/html": [
       "<strong>png:</strong> 2"
      ],
      "text/latex": [
       "\\textbf{png:} 2"
      ],
      "text/markdown": [
       "**png:** 2"
      ],
      "text/plain": [
       "png \n",
       "  2 "
      ]
     },
     "metadata": {},
     "output_type": "display_data"
    },
    {
     "data": {
      "text/html": [
       "'/data1/weiyihu/endometrium/data/0006_plot.pdf'"
      ],
      "text/latex": [
       "'/data1/weiyihu/endometrium/data/0006\\_plot.pdf'"
      ],
      "text/markdown": [
       "'/data1/weiyihu/endometrium/data/0006_plot.pdf'"
      ],
      "text/plain": [
       "[1] \"/data1/weiyihu/endometrium/data/0006_plot.pdf\""
      ]
     },
     "metadata": {},
     "output_type": "display_data"
    },
    {
     "data": {
      "text/html": [
       "<style>\n",
       ".list-inline {list-style: none; margin:0; padding: 0}\n",
       ".list-inline>li {display: inline-block}\n",
       ".list-inline>li:not(:last-child)::after {content: \"\\00b7\"; padding: 0 .5ex}\n",
       "</style>\n",
       "<ol class=list-inline><li>TRUE</li><li>TRUE</li><li>TRUE</li><li>TRUE</li></ol>\n"
      ],
      "text/latex": [
       "\\begin{enumerate*}\n",
       "\\item TRUE\n",
       "\\item TRUE\n",
       "\\item TRUE\n",
       "\\item TRUE\n",
       "\\end{enumerate*}\n"
      ],
      "text/markdown": [
       "1. TRUE\n",
       "2. TRUE\n",
       "3. TRUE\n",
       "4. TRUE\n",
       "\n",
       "\n"
      ],
      "text/plain": [
       "[1] TRUE TRUE TRUE TRUE"
      ]
     },
     "metadata": {},
     "output_type": "display_data"
    }
   ],
   "source": [
    "pdf(\"temp1.pdf\", width=10, height=10)\n",
    "plot1\n",
    "dev.off()\n",
    "pdf(\"temp2.pdf\", width=10, height=10)\n",
    "plot2\n",
    "dev.off()\n",
    "pdf(\"temp3.pdf\", width=10, height=10)\n",
    "plot3\n",
    "dev.off()\n",
    "pdf(\"temp4.pdf\", width=10, height=10)\n",
    "plot4\n",
    "dev.off()\n",
    "qpdf::pdf_combine(c(\"temp1.pdf\", \"temp2.pdf\", \"temp3.pdf\", \"temp4.pdf\"),\n",
    "                  \"0006_plot.pdf\")\n",
    "file.remove(c(\"temp1.pdf\", \"temp2.pdf\", \"temp3.pdf\", \"temp4.pdf\"))"
   ]
  }
 ],
 "metadata": {
  "kernelspec": {
   "display_name": "R",
   "language": "R",
   "name": "ir"
  },
  "language_info": {
   "codemirror_mode": "r",
   "file_extension": ".r",
   "mimetype": "text/x-r-source",
   "name": "R",
   "pygments_lexer": "r",
   "version": "4.3.1"
  }
 },
 "nbformat": 4,
 "nbformat_minor": 2
}
