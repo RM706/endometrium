{
 "cells": [
  {
   "cell_type": "code",
   "execution_count": 1,
   "metadata": {},
   "outputs": [],
   "source": [
    "import pandas as pd\n",
    "import numpy as np\n",
    "import anndata\n",
    "import scanpy as sc\n",
    "import sklearn\n",
    "#from sklearn.metrics.cluster import pair_confusion_matrix\n",
    "#from sklearn.metrics import silhouette_score\n",
    "#from sklearn.metrics.cluster import normalized_mutual_info_score\n",
    "#from sklearn.metrics.cluster import adjusted_rand_score\n",
    "#import sys\n",
    "import time"
   ]
  },
  {
   "cell_type": "markdown",
   "metadata": {},
   "source": []
  },
  {
   "cell_type": "code",
   "execution_count": 2,
   "metadata": {},
   "outputs": [],
   "source": [
    "# 前置参数\n",
    "inputFileName = \"/data1/shumeng/5.NK_cell/6.TLOs/1.project/scVI/Harmony.h5ad\"  # .h5ad  #####  save raw Seurat count and metadata to h5ad data\n",
    "\n",
    "cells = 100000\n",
    "classifyCol = \"seurat_clusters\"  # default is seurat_clusters\n",
    "batchCol = \"sample\"  # default is sample\n",
    "X_umap = \"X_umap\"  # default is X_umap"
   ]
  },
  {
   "cell_type": "code",
   "execution_count": 3,
   "metadata": {},
   "outputs": [],
   "source": [
    "adata = anndata.read_h5ad(inputFileName)"
   ]
  },
  {
   "cell_type": "code",
   "execution_count": 7,
   "metadata": {},
   "outputs": [
    {
     "data": {
      "text/plain": [
       "AxisArraysView with keys: X_harmony, X_pca, X_umap"
      ]
     },
     "execution_count": 7,
     "metadata": {},
     "output_type": "execute_result"
    }
   ],
   "source": [
    "dataObject.obsm"
   ]
  },
  {
   "cell_type": "code",
   "execution_count": 66,
   "metadata": {},
   "outputs": [
    {
     "name": "stdout",
     "output_type": "stream",
     "text": [
      "colNames: ['orig.ident', 'nCount_RNA', 'nFeature_RNA', 'study', 'sample', 'percent.mt', '...1', 'day', 'donor', 'cell_type', 'cell_name', 'mitochondria_ratio', 'Group', 'cc_Phase', 'menstrual_cycle_day', 'principal_cell_types', 'cell_subtypes', 'RNA_snn_res.0.5', 'seurat_clusters']\n",
      "cells: 100000\n",
      "[TIME]210.8268620967865\n",
      "ASW_clusters: 0.5599389657404426\n",
      "[TIME]176.5440571308136\n",
      "ASW_batch_Batch: 0.2759505828693797\n"
     ]
    }
   ],
   "source": [
    "if __name__ == \"__main__\":\n",
    "    # load data\n",
    "    adata = anndata.read_h5ad(inputFileName)\n",
    "    print(\"colNames: {}\".format(adata.obs.columns.to_list()))\n",
    "    # sample\n",
    "    test_indices = np.random.choice(adata.n_obs, size=cells, replace=False)\n",
    "    test_set = adata[test_indices, :]\n",
    "\n",
    "    # set data object\n",
    "    dataObject = test_set\n",
    "    print(\"cells: {}\".format(dataObject.shape[0]))\n",
    "\n",
    "    # work1\n",
    "    t = time.time()\n",
    "    ASW_clusters = sklearn.metrics.silhouette_score(labels=dataObject.obs[classifyCol],\n",
    "                                                    X=dataObject.obsm[X_umap])\n",
    "    ASW_clusters = (ASW_clusters+1)/2\n",
    "    print(\"[TIME]{}\".format(time.time()-t))\n",
    "    print(\"ASW_clusters: {}\".format(ASW_clusters))\n",
    "\n",
    "    # work2\n",
    "    t = time.time()\n",
    "    ASW_batch_Batch = sklearn.metrics.silhouette_score(labels=dataObject.obs[batchCol],\n",
    "                                                       X=dataObject.obsm[X_umap])\n",
    "    ASW_batch_Batch = (ASW_batch_Batch+1)/2\n",
    "    print(\"[TIME]{}\".format(time.time()-t))\n",
    "    print(\"ASW_batch_Batch: {}\".format(ASW_batch_Batch))\n"
   ]
  }
 ],
 "metadata": {
  "kernelspec": {
   "display_name": "endometrium",
   "language": "python",
   "name": "python3"
  },
  "language_info": {
   "codemirror_mode": {
    "name": "ipython",
    "version": 3
   },
   "file_extension": ".py",
   "mimetype": "text/x-python",
   "name": "python",
   "nbconvert_exporter": "python",
   "pygments_lexer": "ipython3",
   "version": "3.8.15"
  }
 },
 "nbformat": 4,
 "nbformat_minor": 2
}
